{
  "nbformat": 4,
  "nbformat_minor": 0,
  "metadata": {
    "colab": {
      "provenance": []
    },
    "kernelspec": {
      "name": "python3",
      "display_name": "Python 3"
    },
    "language_info": {
      "name": "python"
    }
  },
  "cells": [
    {
      "cell_type": "code",
      "execution_count": null,
      "metadata": {
        "id": "akUCeDitBfQ6"
      },
      "outputs": [],
      "source": []
    },
    {
      "cell_type": "code",
      "execution_count": null,
      "metadata": {
        "id": "O2OnUM79a2K5"
      },
      "outputs": [],
      "source": [
        "# STEP 1: Install the Google Generative AI SDK\n",
        "!pip install -q google-generativeai"
      ]
    },
    {
      "cell_type": "code",
      "source": [
        "import os\n",
        "os.environ[\"GOOGLE_API_KEY\"] = \"ENTER API KEY \""
      ],
      "metadata": {
        "id": "mKRVuu6KCwM3"
      },
      "execution_count": null,
      "outputs": []
    },
    {
      "cell_type": "markdown",
      "source": [
        "# DOCUMENT UNDERSTANDING"
      ],
      "metadata": {
        "id": "OYi1spUhC7Fm"
      }
    },
    {
      "cell_type": "markdown",
      "source": [
        "# Document understanding Capability\n",
        "\n",
        "Gemini models can process documents, using 'native vision' to understand entire document contexts. This goes beyond 'simple text extraction'."
      ],
      "metadata": {
        "id": "6Ft_ImrLsrol"
      }
    },
    {
      "cell_type": "markdown",
      "source": [
        "## 1. Simple Text Extraction\n",
        "\n",
        "Simple text extraction means pulling out text (written words) from a source — usually an image, PDF, or document — without understanding or analyzing it.\n",
        "\n",
        "It’s a basic OCR (Optical Character Recognition) process.\n",
        "\n",
        "a) The system looks at an image or scanned page.\n",
        "\n",
        "b) It detects characters (letters, numbers, punctuation).\n",
        "\n",
        "c) Then it converts them into machine-readable text.\n",
        "\n",
        "Example:\n",
        "You upload an image of a bill that says:\n",
        "\n",
        "“Total: ₹450”\n",
        "\n",
        "Simple text extraction will just output:\n",
        "Total: ₹450\n",
        "\n",
        "It doesn’t interpret or analyze meaning — it only extracts raw text."
      ],
      "metadata": {
        "id": "eFWTid-Ssxmg"
      }
    },
    {
      "cell_type": "markdown",
      "source": [
        "## 2. Native Vision\n",
        "\n",
        "Native Vision refers to built-in visual understanding capabilities of an AI model — meaning the model can directly “see” and reason about images, not just extract text.\n",
        "\n",
        "This includes:\n",
        "\n",
        "a) Recognizing objects, people, or scenes.\n",
        "\n",
        "b) Describing images in natural language.\n",
        "\n",
        "c) Reading charts, graphs, or handwritten notes.\n",
        "\n",
        "d) Combining image and text understanding (multimodal reasoning).\n",
        "\n",
        "It’s called native because the vision capability is integrated directly inside the model, not using an external OCR or image analysis tool.\n",
        "\n",
        "Example:\n",
        "You upload the same image of a bill.\n",
        "A native vision model could say:\n",
        "\n",
        "“This is a restaurant bill showing a total of ₹450 for two items: Pizza and Coke.”\n",
        "\n",
        "Here, it not only reads the text — it understands the context."
      ],
      "metadata": {
        "id": "eU7lmVWmsxpj"
      }
    },
    {
      "cell_type": "markdown",
      "source": [
        "## 3. Benefits of Native Vision\n",
        "\n",
        "A) It performs holistic content analysis, it interpret and synthesize information from all elements within a document simultaneously. It understands the inherent relationships between text, images, tables, and diagrams because it processes the page's visual structure. This goes beyond simple text recognition to comprehend the document as a whole.\n",
        "\n",
        "B) Handles huge documents easily it can process PDFs up to `1000 pages in one go, without you needing to split or shrink them.\n",
        "\n",
        "C) It enables structured data extraction can turn messy PDF content into clean, organized formats like CSV, JSON, or database ready tables. The model uses its understanding of visual layout, such as labels, fields, columns, and rows, to accurately map unstructured data to a predefined schema.\n",
        "\n",
        "D) It gives us capability of Context Aware Summarization and Question Answering, This capability allows the model to generate summaries or answer questions by synthesizing information from multiple, often disparate, parts of a document. Its contextual awareness means it can draw conclusions that require combining information from a paragraph of text, a data table, and a visual diagram.\n",
        "\n",
        "E) It preserves formatting for reuse it can convert PDFs into HTML or other formats while keeping original styling for website, apps, or reports\n"
      ],
      "metadata": {
        "id": "bH0XVyR_s4do"
      }
    },
    {
      "cell_type": "code",
      "source": [
        "from google import genai\n",
        "from google.genai import types\n",
        "import httpx    # REQUEST\n",
        "\n",
        "client = genai.Client()\n",
        "\n",
        "# document URL\n",
        "doc_url = \"https://www.ril.com/sites/default/files/2025-08/RIL-Integrated-Annual-Report-2024-25.pdf\"\n",
        "\n",
        "doc_data = httpx.get(doc_url).content  # IT SEND URL A GET REQUEST\n",
        "\n",
        "prompt=\"Summarize the document .\"\n",
        "\n",
        "response= client.models.generate_content(\n",
        "    model= \"gemini-2.5-flash\",\n",
        "    contents= [\n",
        "        types.Part.from_bytes(\n",
        "            data=doc_data,\n",
        "            mime_type=\"application/pdf\"\n",
        "        ), prompt\n",
        "    ])"
      ],
      "metadata": {
        "id": "vEBtRKqqbMmc"
      },
      "execution_count": null,
      "outputs": []
    },
    {
      "cell_type": "code",
      "source": [
        "print(response.text)"
      ],
      "metadata": {
        "colab": {
          "base_uri": "https://localhost:8080/"
        },
        "id": "yLXB6R6sEbdZ",
        "outputId": "36d790be-6670-44d9-ba5a-cb257e8c2b04"
      },
      "execution_count": null,
      "outputs": [
        {
          "output_type": "stream",
          "name": "stdout",
          "text": [
            "The document is the **Integrated Annual Report 2024-25 of Reliance Industries Limited (RIL)**, providing a comprehensive overview of the company's financial, operational, governance, and sustainability performance.\n",
            "\n",
            "Here's a summary of its key sections:\n",
            "\n",
            "**1. Cover Page (Page 1):**\n",
            "*   **Theme:** \"Realising Aspirations\"\n",
            "*   **Highlights:** Visuals and keywords like Sustainability, Responsibility, Connectivity, Mobility, Accessibility, Reliability, and Variety, indicating RIL's diverse operations and commitment to sustainable growth.\n",
            "*   **Reporting Period:** 2024-25.\n",
            "\n",
            "**2. Table of Contents & Company Overview (Page 2):**\n",
            "*   **Vision:** Inspired by Founder Chairman Shri Dhirubhai H. Ambani's philosophy \"Pursue your goals even in the face of difficulties, and convert adversities into opportunities.\"\n",
            "*   **Chairman's Message (Shri Mukesh D. Ambani):** Emphasizes customer-centric innovation, operational discipline, resilience, and progression in fulfilling India's growth.\n",
            "*   **Company Profile:** India's largest private sector enterprise, Fortune Global 500 leader, significant presence in energy, retail, telecom, media, and green technologies.\n",
            "*   **Key Metrics:** First Indian company to cross ₹10,00,000 Crore in Consolidated Total Equity, ₹2,83,719 Crore Exports, ₹2,156 Crore CSR Contribution, 4,03,303 People, #88 Fortune Global 500, #49 Forbes Global 2000, Among TIME100 most influential companies 2024.\n",
            "*   **Reporting Suite:** Mentions the availability of Online Integrated Annual Report, Business Responsibility & Sustainability Report (BRSR), and Corporate Social Responsibility (CSR) Report.\n",
            "*   **AGM:** To be held on August 29, 2025.\n",
            "\n",
            "**3. Reliance at a Glance & Stakeholder Value Creation (Page 3):**\n",
            "*   **Growth Engines:** Overview of key business segments with FY 2024-25 revenue and EBITDA figures:\n",
            "    *   **Retail:** India’s top retailer, ₹3,30,943 Crore Revenue, ₹25,094 Crore EBITDA.\n",
            "    *   **Digital Services (Jio):** Unmatched digital powerhouse, ₹1,54,119 Crore Revenue, ₹65,001 Crore EBITDA.\n",
            "    *   **Media & Entertainment (JioStar, Network18):** India’s largest platform, ₹20,696 Crore Revenue, ₹1,833 Crore EBITDA.\n",
            "    *   **Oil to Chemicals (O2C):** Global leader, ₹6,26,921 Crore Revenue, ₹54,988 Crore EBITDA.\n",
            "    *   **Oil and Gas:** Leading contributor to India’s E&P, ₹25,211 Crore Revenue, ₹21,188 Crore EBITDA.\n",
            "*   **Total Value Added:** ₹4,30,453 Crore in FY 2024-25 (up from ₹3,94,020 Crore in FY 2023-24).\n",
            "*   **Value Distribution:** National Exchequer, Reinvestment in Group, Providers of Debt, Employee Benefits, Providers of Equity Capital, Contribution to Society.\n",
            "*   **Sustainable Growth Enablers:** Technology & consumer-centric platforms, strong project management, competitive access to capital, diversification, integration, and cost leadership.\n",
            "\n",
            "**4. Chairman and Managing Director’s Statement (Page 4):**\n",
            "*   **Highlights:** India's leadership on the global stage, RIL's role as a partner in India's growth, strong and resilient performance across diverse businesses, creation of four new engines of growth (Retail, Digital Services, Media & Entertainment, New Energy), and the company's foundation on values, people, and vision.\n",
            "\n",
            "**5. Financial Performance and Review (Page 5):**\n",
            "*   **Operating Environment:** Global economic growth (3.3%) and easing inflation, but geopolitical tensions and policy uncertainties caused market volatility. India's economy showed resilience (6.5% growth).\n",
            "*   **Performance Overview:**\n",
            "    *   Consolidated revenue: ₹10,71,174 crore (+7.1%).\n",
            "    *   EBITDA: ₹1,83,422 crore (+2.9%).\n",
            "    *   PAT: ₹81,309 crore (+2.9%).\n",
            "    *   Consumer businesses contributed over 50% of consolidated EBITDA.\n",
            "*   **Segment Performance:** Digital Services (+14.7% EBITDA), Retail (+8.6% EBITDA), Oil and Gas (+4.9% EBITDA), Oil to Chemicals (-11.9% EBITDA due to weaker margins).\n",
            "*   **Consolidated Net Debt:** ₹1,17,083 crore (robust internal cash flow, conservative balance sheet).\n",
            "*   **Capex:** ₹1,31,107 crore (new O2C projects, Retail expansion, Digital Services, New Energy).\n",
            "*   **Standalone Performance:** Revenue down 3.1%, EBITDA down 14.2%, PAT down 16.1% due to O2C segment impact.\n",
            "*   **10-Year Financial Highlights:** Detailed financial data from FY 2015-16 to FY 2024-25 (Revenue, EBDIT, PAT, Net Worth, Gross Fixed Assets, Total Assets, Market Capitalisation, EPS, RONW, ROCE, Debt:Equity Ratio).\n",
            "\n",
            "**6. Business Overviews (Pages 6-13):**\n",
            "*   **Retail:** Multi-channel strategy, largest Indian retailer, 19,340 stores, 77.4 Million sq. ft. retail area, >349 Million customers, ~1.4 Billion transactions, 247,782 people. SWOT analysis highlights strengths (omni-channel presence, customer base), challenges (rentals, manpower), opportunities (rising aspirations, own brands), and threats (macroeconomic factors).\n",
            "*   **Digital Services:** Jio's role as a digital adoption driver, 185 Exabytes data traffic, 488 Million+ subscribers, 18 Million+ homes connected, 191 Million 5G users, 94,523 people. Focus on 5G and Fixed Wireless (AirFiber) expansion. SWOT analysis emphasizes strengths (advanced networks, digital platforms), challenges (supply chain, device ecosystem), opportunities (5G, fiber rollout, AI infrastructure), and threats (disruptive technologies, price competition).\n",
            "*   **Media and Entertainment:** JioStar's leading position, merger with Disney, 34% TV viewership share, 280 Million JioHotstar subscribers, 503 Million peak MAUs, #1 TV News network, #1 Moneycontrol. SWOT analysis covers strengths (largest media conglomerate, sports rights), challenges (content costs, ad market sensitivity), opportunities (micro-dramas, localized storytelling), and threats (tech obsolescence, consumer behavior changes).\n",
            "*   **Oil to Chemicals (O2C):** Portfolio in transportation fuels, polymers & elastomers, intermediates, polyesters. 80.5 MMT total throughput, 71.2 MMT production meant for sale, 29,985 people. SWOT analysis for O2C focuses on strengths (feedstock sourcing, integration, flexibility), challenges (freight exposure, overcapacity, raw material costs), opportunities (domestic demand, Chinese revival), and threats (crude supply, EV transition, sustainability regulations).\n",
            "*   **Oil and Gas:** E&P business, focus on health, safety, production enhancement. KG D6 and CBM blocks contribute ~30% of India's domestic gas supply. 251 BCF gas production, 5.06 MMBBLs oil & condensate production, zero LTI in offshore. SWOT analysis emphasizes strengths (world-class infrastructure, deepwater execution), challenges (supply chain, commodity prices), opportunities (monetize resources, India's gas-based economy), and threats (LNG oversupply, renewables shift).\n",
            "\n",
            "**7. Integrated Approach to Sustainable Growth (Pages 17-21):**\n",
            "*   **ESG Governance Framework:** Commitment to high standards of corporate citizenship, accountability, integrity, and transparency. Board provides strategic direction, supported by dedicated ESG, Audit, CSR, Stakeholders, and Risk Management Committees.\n",
            "*   **Net Carbon Zero Strategy:** Target by 2035, focus on renewables (solar, battery, green hydrogen, sustainable chemicals). 2.3 Million GJ energy savings, 5.4 Million GJ renewable energy consumption. Milestones include 100 GW+ renewable energy by 2030, 30GWh/annum battery manufacturing, pilot-scale electrolyzer.\n",
            "*   **Natural Capital:** Focus on energy efficiency (2.3 Million GJ savings for O2C and E&P), biodiversity (6,500+ hectares greenbelts, 2.48 Crore saplings, Vantara animal rescue center), waste management and circular economy (PET recycling, chemical recycling, zero-waste stores).\n",
            "*   **Human Capital:** Empowering workforce for shared success. Health, Safety & Employee Well-being (LTIFR of 0.12 for O2C/E&P), Diversity & Inclusion (14.2% women in leadership), Talent Management (multi-tiered approach, continuous upskilling).\n",
            "*   **Manufactured Capital:** Integrating deep-tech and advanced manufacturing for \"Viksit Bharat.\" Focus on New Energy, O2C initiatives, E&P production.\n",
            "*   **Intellectual Capital:** Driving innovation for a self-reliant future. Comprehensive IP governance framework (1,156 patents granted to RIL, 485 patents for Jio). Focus on circular economy, bio-innovations, affordable clean energy, climate change, digital services.\n",
            "*   **Social and Relationship Capital:** Fostering sustainable communities. Community development (₹2,156 Crore CSR spend), customer satisfaction, sustainable supply chain management.\n",
            "*   **Risk and Governance:** Integrated structure to identify, manage, and monitor risks (strategic/commercial, climate change, commodity prices, data privacy, cybersecurity, safety/operational, financial).\n",
            "\n",
            "**8. Major Awards and Recognitions (Page 16):**\n",
            "*   Lists numerous awards and recognitions for RIL across leadership, innovation, media & entertainment, HSE & sustainability, digital, and retail.\n",
            "\n",
            "**9. Corporate Governance Report (Pages 24-39):**\n",
            "*   **Statement on Company's Philosophy:** Governance as a philosophy for responsible leadership and lasting relationships with stakeholders.\n",
            "*   **Board of Directors:** Profiles of Mukesh D. Ambani (Chairman & MD), Raminder Singh Gujral, Dr. Shumeet Banerji, Arundhati Bhattacharya, K.V. Chowdary, K.V. Kamath, Haigreve Khaitan, Isha M. Ambani, Akash M. Ambani, Anant M. Ambani, Nikhil R. Meswani, Hital R. Meswani, P.M.S. Prasad. Details include appointments, shareholdings, other directorships, committee memberships, and areas of expertise.\n",
            "*   **Committees:** Information on Audit, Human Resources, Nomination and Remuneration, Stakeholders’ Relationship, Corporate Social Responsibility and Governance, Environmental, Social and Governance, and Risk Management Committees.\n",
            "*   **Meetings & Attendance:** Details of Board and Committee meetings and attendance.\n",
            "*   **Remuneration:** Non-Executive and Executive Directors' remuneration.\n",
            "*   **Vigil Mechanism & Whistle-Blower Policy:** Framework for reporting violations without retaliation.\n",
            "*   **Anti-Bribery & Anti-Corruption Policy:** Zero-tolerance approach to corruption.\n",
            "*   **Internal Financial Controls:** Documented, automated, and embedded controls.\n",
            "*   **Auditors:** Details of Statutory Auditors, Cost Auditors, and Secretarial Auditor.\n",
            "*   **Certificates:** CEO/CFO Certificate, Secretarial Audit Report, Independent Auditor's Report on Corporate Governance compliance.\n",
            "*   **Shareholder Information:** Annual General Meeting details, dividend payment date, financial calendar, listing on stock exchanges, credit rating, share transfer system, distribution of shareholding.\n",
            "*   **Related Party Transactions:** Details of transactions with related parties.\n",
            "*   **Unpaid/Unclaimed Amounts:** Transfer to Investor Education and Protection Fund.\n",
            "*   **Compliance:** Details of compliance with various regulations, including Listing Regulations, Companies Act, and SEBI circulars.\n",
            "\n",
            "**10. Financial Statements (Pages 97-285):**\n",
            "*   **Independent Auditor's Report (Standalone & Consolidated):** Opinion on the financial statements, key audit matters (litigation, fair valuation of investments, IT systems and controls), other legal and regulatory requirements.\n",
            "*   **Standalone Financial Statements:** Balance Sheet, Statement of Profit and Loss, Statement of Changes in Equity, Statement of Cash Flows, and Notes to Financial Statements.\n",
            "*   **Consolidated Financial Statements:** Consolidated Balance Sheet, Consolidated Statement of Profit and Loss, Consolidated Statement of Changes in Equity, Consolidated Statement of Cash Flows, and Notes to Consolidated Financial Statements.\n",
            "*   **Annexures:**\n",
            "    *   Annexure I & II: Identified Sustainability Information subject to Reasonable and Limited Assurance.\n",
            "    *   Annexure II: Form No. AOC-2 (Related Party Transactions) and Annual Report on CSR Activities.\n",
            "    *   Annexure III: Annual Report on Corporate Social Responsibility (CSR) Activities.\n",
            "    *   Annexure IV: Secretarial Audit Report (for Reliance Industries Limited, Jio Platforms Limited, Reliance Jio Infocomm Limited, Reliance Retail Ventures Limited, Reliance Retail Limited).\n",
            "    *   Annexure V: Particulars of energy conservation, technology absorption, foreign exchange earnings and outgo.\n",
            "    *   Annexure A (Standalone & Consolidated): Independent Auditor’s Report on Internal Financial Controls.\n",
            "    *   Annexure B (Standalone & Consolidated): Report on Other Legal and Regulatory Requirements.\n",
            "    *   Annexure A (Consolidated, Part A & B): Statement Containing Salient Features of Financial Statements of Subsidiaries / Associates / Joint Ventures.\n",
            "*   **Key Accounting Policies:** Details on basis of preparation, current/non-current classification, property/plant/equipment, intangible assets, inventories, provisions, contingent liabilities, current/deferred tax, share-based payments, revenue recognition, financial instruments, foreign currency transactions, and oil & gas activity.\n",
            "*   **Critical Accounting Judgements and Key Sources of Estimation Uncertainty:** Estimation of oil and gas reserves, property/plant/equipment, intangible assets, provisions, impairment of financial/non-financial assets, fair value measurement.\n",
            "*   **Financial Risk Management:** Market risk (foreign currency, interest rate, commodity price), credit risk, liquidity risk, hedge accounting.\n",
            "*   **Ratio Analysis:** Current Ratio, Debt-Equity Ratio, Debt Service Coverage Ratio, Return on Equity, Inventory Turnover Ratio, Trade Receivables Turnover Ratio, Trade Payables Turnover Ratio, Net Capital Turnover Ratio, Net Profit Margin, Return on Capital Employed, Return on Investment.\n",
            "\n",
            "The report concludes with the **Company Information** (Page 145) and a final visual spread (Page 146).\n"
          ]
        }
      ]
    },
    {
      "cell_type": "code",
      "source": [],
      "metadata": {
        "id": "1pYV69fmUOT_"
      },
      "execution_count": null,
      "outputs": []
    },
    {
      "cell_type": "code",
      "source": [
        "# to check if model is working or not\n",
        "\n",
        "from google import genai\n",
        "from google.genai import types\n",
        "import httpx\n",
        "\n",
        "client = genai.Client()\n",
        "\n",
        "# document URL\n",
        "doc_url = \"https://www.ril.com/sites/default/files/2025-08/RIL-Integrated-Annual-Report-2024-25.pdf\"\n",
        "\n",
        "doc_data = httpx.get(doc_url).content\n",
        "\n",
        "prompt=\"IN page number 5  there is an table  and content written on the right side of the table,is the content  and table related to each other.\"\n",
        "\n",
        "response_1= client.models.generate_content(\n",
        "    model= \"gemini-2.5-flash\",\n",
        "    contents= [\n",
        "        types.Part.from_bytes(\n",
        "            data=doc_data,\n",
        "            mime_type=\"application/pdf\"\n",
        "        ), prompt\n",
        "    ])"
      ],
      "metadata": {
        "id": "2HLkO-CRUztt"
      },
      "execution_count": null,
      "outputs": []
    },
    {
      "cell_type": "code",
      "source": [
        "print(response_1.text)"
      ],
      "metadata": {
        "colab": {
          "base_uri": "https://localhost:8080/"
        },
        "id": "jTDTexbaU1fa",
        "outputId": "2ffa9b94-3639-4f1f-d3c6-67a565d8cf50"
      },
      "execution_count": null,
      "outputs": [
        {
          "output_type": "stream",
          "name": "stdout",
          "text": [
            "Yes, the table \"10-YEAR FINANCIAL HIGHLIGHTS\" on page 5 and the content written on the right side under \"MANAGEMENT DISCUSSION AND ANALYSIS\" are **directly related** to each other.\n",
            "\n",
            "Here's how:\n",
            "\n",
            "1.  **Financial Data Source:** The \"10-YEAR FINANCIAL HIGHLIGHTS\" table provides the raw, historical financial figures (Revenue, EBITDA, Net Profit, etc.) for Reliance Industries Limited over a decade, culminating in FY 2024-25.\n",
            "\n",
            "2.  **Interpretation and Explanation:** The \"MANAGEMENT DISCUSSION AND ANALYSIS\" section, particularly the \"Performance Overview\" subsection on the right, *interprets and explains* these financial figures, especially for the most recent fiscal year (FY 2024-25).\n",
            "    *   It discusses the **Consolidated revenue**, **EBITDA**, and **PAT** figures for FY 2024-25, which are directly presented in the table.\n",
            "    *   It then breaks down the **Segment Performance** (Digital Services, Retail, Oil to Chemicals, Oil & Gas) and explains *how* each segment contributed to the overall financial results, often citing growth percentages that are derived from the year-over-year comparisons possible with the table data.\n",
            "    *   The \"Operating Environment\" section provides the broader economic context that influenced these financial highlights.\n",
            "\n",
            "In essence, the table provides the **what** (the numbers), and the text on the right provides the **why** and **how** (the analysis, drivers, and context behind those numbers).\n"
          ]
        }
      ]
    },
    {
      "cell_type": "code",
      "source": [],
      "metadata": {
        "id": "WeAhN3YrU9sr"
      },
      "execution_count": null,
      "outputs": []
    },
    {
      "cell_type": "code",
      "source": [
        "from google import genai\n",
        "from google.genai import types\n",
        "import pathlib                     # copy file from local system\n",
        "\n",
        "\n",
        "client = genai.Client()\n",
        "\n",
        "filepath= pathlib.Path(\"/content/DISSERTATION.pdf\")\n",
        "\n",
        "prompt=\"Summarize this document\"\n",
        "\n",
        "response_2= client.models.generate_content(\n",
        "    model= \"gemini-2.5-flash\",\n",
        "    contents= [\n",
        "        types.Part.from_bytes(\n",
        "            data=filepath.read_bytes(),    # read_bytes = extract raw data in the form of bytes\n",
        "            mime_type=\"application/pdf\"\n",
        "        ), prompt\n",
        "    ])\n",
        "\n",
        "print(response_2.text)"
      ],
      "metadata": {
        "colab": {
          "base_uri": "https://localhost:8080/"
        },
        "id": "Y61tgNMObzUs",
        "outputId": "0da8a648-0467-46d1-891a-9670dc67012d"
      },
      "execution_count": null,
      "outputs": [
        {
          "output_type": "stream",
          "name": "stdout",
          "text": [
            "This document is the **Integrated Annual Report 2024-25** for **Reliance Industries Limited (RIL)**, themed \"Realising Aspirations\" and driven by the philosophy \"Growth is Life.\" It details RIL's performance, strategic direction, and commitment to sustainable growth across its diversified businesses.\n",
            "\n",
            "**Key Highlights & Overall Performance (FY 2024-25):**\n",
            "\n",
            "*   **India's Largest Private Sector Enterprise:** A Fortune Global 500 leader, it aims to fulfill India's growth requirements through customer-centric innovation and operational discipline.\n",
            "*   **Financial Performance (Consolidated):**\n",
            "    *   **Revenue:** ₹10,71,174 Crore (+7.1% Y-o-Y)\n",
            "    *   **EBITDA:** ₹1,83,422 Crore (+2.9% Y-o-Y)\n",
            "    *   **Net Profit:** ₹81,309 Crore (+2.9% Y-o-Y)\n",
            "    *   **Total Equity:** First Indian company to cross ₹10,00,000 Crore in consolidated total equity.\n",
            "*   **Significant Contributions:** ₹2,83,719 Crore in exports, ₹2,156 Crore in CSR contribution, employing 403,303 people.\n",
            "*   **Total Value Added:** ₹4,30,453 Crore (Consolidated), with significant contributions to the National Exchequer (₹2,10,269 Crore) and reinvestment in operations (₹1,40,151 Crore).\n",
            "\n",
            "**Core Growth Engines & Business Overview:**\n",
            "\n",
            "1.  **Retail:**\n",
            "    *   **Overview:** India's largest and most successful omni-channel retailer (physical stores, digital commerce). Ranked 40th in Deloitte’s Global Powers of Retailing.\n",
            "    *   **Performance:** Revenue ↑7.9% to ₹3,30,943 Crore; EBITDA ↑8.6% to ₹25,094 Crore.\n",
            "    *   **Scale:** 19,340 stores, 77.4 Million sq. ft. retail area, >349 Million registered customers, ~1.4 Billion transactions.\n",
            "    *   **Focus:** Delivering exceptional value and differentiated experience across categories.\n",
            "\n",
            "2.  **Digital Services (Jio):**\n",
            "    *   **Overview:** Key catalyst for digital adoption in India, driving connectivity and innovative digital solutions.\n",
            "    *   **Performance:** Revenue ↑15.9% to ₹1,54,119 Crore; EBITDA ↑14.7% to ₹65,001 Crore.\n",
            "    *   **Scale:** World's largest data network with 488 Million+ subscribers (including 191 Million 5G users), 185 Exabytes data traffic, 18 Million+ homes connected.\n",
            "    *   **Future:** Investing in 6G and satellite communication (partnering with SpaceX).\n",
            "\n",
            "3.  **Media & Entertainment (JioStar):**\n",
            "    *   **Overview:** India’s largest M&E platform, formed by the merger of Viacom18 and Star India, integrating JioCinema and Disney+Hotstar.\n",
            "    *   **Performance:** Revenue ↑74.3% to ₹20,696 Crore; EBITDA ↑139.6% to ₹1,833 Crore (significant growth).\n",
            "    *   **Leadership:** 34% industry-leading TV viewership, 280 Million Pay subscribers during IPL, #1 TV News network, #1 Moneycontrol.\n",
            "\n",
            "4.  **Oil to Chemicals (O2C):**\n",
            "    *   **Overview:** Global leader in Oil-to-Chemicals, covering transportation fuels, polymers, intermediates, and polyesters with integrated world-class assets.\n",
            "    *   **Performance:** Revenue ↑11.0% to ₹6,26,921 Crore; EBITDA ↓11.9% to ₹54,988 Crore (impacted by weaker margins, offset by higher volumes).\n",
            "    *   **Strategy:** Cater to India’s energy and materials demand, sustainability, Net Carbon Zero by 2035. Jio-bp's mobility stations and EV charging network are expanding.\n",
            "\n",
            "5.  **Oil and Gas:**\n",
            "    *   **Overview:** Leading contributor to India’s Exploration and Production sector (deepwater, ultra-deepwater, CBM blocks).\n",
            "    *   **Performance:** Revenue ↑3.2% to ₹25,211 Crore; EBITDA ↑4.9% to ₹21,188 Crore.\n",
            "    *   **Contribution:** Supplies ~30% of India’s domestic gas. Achieved Zero LTI (Lost Time Injury) in offshore operations.\n",
            "\n",
            "**Integrated Approach to Sustainable Growth:**\n",
            "\n",
            "*   **Net Carbon Zero by 2035:** A committed vision with strategies like backward integration, robust business models, and deep-tech R&D.\n",
            "*   **New Energy Ecosystem:** Building Dhirubhai Ambani Green Energy Giga Complex (5,000 acres, Jamnagar).\n",
            "    *   **Goals:** 100 GW+ of round-the-clock renewable energy by 2030, 5 MMTPA Green Hydrogen production by 2030.\n",
            "    *   **Progress:** First solar GW+ module facility operational, 30 GWh battery giga-factory progressing, Multi-GW electrolyser facility underway, largest bioenergy R&D centre established.\n",
            "*   **ESG Governance:** Robust framework with Board oversight, dedicated ESG Committee, and policies covering environmental, social, and governance aspects (e.g., climate change, waste management, human capital, data privacy).\n",
            "\n",
            "**Governance:**\n",
            "\n",
            "*   **Philosophy:** Emphasizes responsible leadership, trust, and fostering lasting relationships with stakeholders.\n",
            "*   **Structure:** Multi-tier governance with independent directors, executive committees, and various specialized committees (Audit, Risk Management, CSR&G, ESG, Human Resources, Stakeholders’ Relationship).\n",
            "*   **Ethics:** Upholds ethical business practices through a strong Code of Conduct, ensuring integrity, transparency, and accountability.\n",
            "\n",
            "The report concludes with a positive outlook for India’s retail sector and RIL’s continued commitment to innovation, sustainability, and inclusion to achieve greater heights.\n"
          ]
        }
      ]
    },
    {
      "cell_type": "code",
      "source": [
        "response_2"
      ],
      "metadata": {
        "colab": {
          "base_uri": "https://localhost:8080/"
        },
        "id": "77vhKugrVLwd",
        "outputId": "04a8f842-3ffb-4907-9015-33fadde27f9a"
      },
      "execution_count": null,
      "outputs": [
        {
          "output_type": "execute_result",
          "data": {
            "text/plain": [
              "GenerateContentResponse(\n",
              "  automatic_function_calling_history=[],\n",
              "  candidates=[\n",
              "    Candidate(\n",
              "      content=Content(\n",
              "        parts=[\n",
              "          Part(\n",
              "            text=\"\"\"This document presents a comprehensive multifactorial analysis of cancer patient outcomes, drawing insights from a global dataset of 50,000 patients spanning 2015-2024. The study aims to understand how genetic, lifestyle, environmental, and economic factors collectively influence cancer severity, treatment costs, and survival years.\n",
              "\n",
              "**1. Introduction & Background:**\n",
              "Cancer is identified as a complex global health challenge, causing nearly 10 million deaths in 2020. Its multifactorial nature, driven by genetics, lifestyle, environment, and socioeconomic conditions, necessitates an integrated approach. The study highlights the need to move beyond isolated factor research to understand complex interdependencies for better personalized care and public health strategies.\n",
              "\n",
              "**2. Methodology:**\n",
              "The research employed a **retrospective analytical design** using the \"Global Cancer Patients Dataset (2015–2024)\". This dataset includes diverse variables such as patient demographics (age, gender, country), genetic risk, lifestyle factors (smoking, alcohol, obesity), environmental exposures (air pollution), medical details (cancer type, stage), economic factors (treatment cost), and outcome variables (survival years, severity score).\n",
              "**Tools used:** Python libraries (Pandas, NumPy, SciKit-Learn, Matplotlib, Seaborn), statistical methods (ANOVA, Chi-Square, Pearson Correlation, Kruskal-Wallis), and machine learning models (Linear Regression, Random Forest).\n",
              "\n",
              "**3. Key Findings & Observations:**\n",
              "\n",
              "*   **Demographics & Data Quality:** The dataset is diverse, covering various age groups, genders, and 10 countries (Australia most represented). Data quality checks revealed no missing values or duplicates. Common cancer types include Lung, Breast, and Colorectal, with Stage II being most prevalent.\n",
              "*   **Risk Factors & Cancer Severity:**\n",
              "    *   **Smoking, Genetic Risk, and Treatment Cost** were identified by Random Forest as the most significant predictors of cancer severity.\n",
              "    *   Linear regression showed a **positive, albeit weak, correlation** between all examined risk factors (Genetic Risk, Smoking, Alcohol Use, Air Pollution, Obesity Level) and Target Severity Score. R² values ranged from 0.06 to 0.23, suggesting these factors alone explain a small portion of severity variation, implying complex interdependencies.\n",
              "*   **Early-Stage Diagnosis Rates:** Early-stage diagnoses (Stage 0 & I) were fairly consistent across cancer types (38-41%), with Liver Cancer having the highest rate (40.61%) and Lung Cancer the lowest (38.43%).\n",
              "*   **Economic Burden of Cancer Treatment:**\n",
              "    *   **Geographic disparities** were evident, with higher treatment costs in developed nations (USA, Australia) and lower costs in countries like India and Pakistan.\n",
              "    *   Costs **increased with age**, particularly for those aged 61 and above, but showed **minimal differences across genders**.\n",
              "    *   Countries with robust **public healthcare systems** (Canada, Germany, UK) demonstrated more consistent treatment costs across age groups, suggesting a mitigating effect on financial disparities.\n",
              "*   **Treatment Cost vs. Survival Years:** A Pearson correlation test found **no statistically significant linear correlation** (r ≈ -0.0004, p-value ≈ 0.9235) between higher treatment costs and longer survival years.\n",
              "*   **Cancer Stage vs. Cost & Survival:**\n",
              "    *   Visually, there appeared to be a trend of **higher treatment costs and lower survival durations with advanced cancer stages**.\n",
              "    *   However, **ANOVA tests indicated no statistically significant difference** in mean treatment costs (p=0.4260) or mean survival years (p=0.6022) across cancer stages. This discrepancy is attributed to high data variability within stages, suggesting the need for more robust methods.\n",
              "    *   A Kruskal-Wallis test (a non-parametric alternative used due to non-normal residuals) also found **no significant difference in median survival years across stages** (p=0.6033), challenging the assumption that stage alone is a strong determinant of survival in this dataset.\n",
              "*   **Genetic Risk & Smoking Interaction on Survival:** A multiple linear regression model, including an interaction term, revealed **no statistically significant interaction effect** (p-value = 0.416537) between genetic risk and smoking on survival years. This implies both factors independently affect survival, but their combined effect does not significantly amplify the negative impact.\n",
              "*   **Age Group vs. Cancer Stage:** A Chi-square test showed **no statistically significant association** (p-value = 0.925) between age group and the cancer stage at diagnosis in this dataset.\n",
              "\n",
              "**4. Conclusion:**\n",
              "The study underscores the intricate nature of cancer outcomes. While some risk factors (smoking, genetic risk) are strong predictors of *severity*, their linear impact is weak, and many traditional assumptions regarding factors like *treatment cost*, *cancer stage*, and *age group* as direct determinants of *survival years* were not statistically supported by the employed methods, despite some visual trends. This suggests that cancer outcomes are shaped by a complex, non-linear interplay of many factors, and simple linear associations or group mean differences may not capture the full picture. Machine learning models offered more actionable insights into severity predictors compared to some traditional statistical tests. The findings also highlight global inequalities in healthcare access and the role of public healthcare systems in mitigating financial burdens.\"\"\"\n",
              "          ),\n",
              "        ],\n",
              "        role='model'\n",
              "      ),\n",
              "      finish_reason=<FinishReason.STOP: 'STOP'>,\n",
              "      index=0\n",
              "    ),\n",
              "  ],\n",
              "  model_version='gemini-2.5-flash',\n",
              "  response_id='0mH3aKnDIO3YqtsPu4PO6Qc',\n",
              "  sdk_http_response=HttpResponse(\n",
              "    headers=<dict len=10>\n",
              "  ),\n",
              "  usage_metadata=GenerateContentResponseUsageMetadata(\n",
              "    candidates_token_count=1148,\n",
              "    prompt_token_count=13937,\n",
              "    prompt_tokens_details=[\n",
              "      ModalityTokenCount(\n",
              "        modality=<MediaModality.TEXT: 'TEXT'>,\n",
              "        token_count=5\n",
              "      ),\n",
              "      ModalityTokenCount(\n",
              "        modality=<MediaModality.DOCUMENT: 'DOCUMENT'>,\n",
              "        token_count=13932\n",
              "      ),\n",
              "    ],\n",
              "    thoughts_token_count=3265,\n",
              "    total_token_count=18350\n",
              "  )\n",
              ")"
            ]
          },
          "metadata": {},
          "execution_count": 21
        }
      ]
    },
    {
      "cell_type": "code",
      "source": [],
      "metadata": {
        "id": "bRuLu_ghXl5i"
      },
      "execution_count": null,
      "outputs": []
    },
    {
      "cell_type": "code",
      "source": [
        "\n",
        "# we just gaved a promt of 2 line from the pdf idk in which page is this text is on?\n",
        "\n",
        "prompt = \"\"\"\n",
        "From the early-stage diagnosis percentages for different cancer types, identify the type with the lowest early-stage detection rate.\n",
        "Then, using the literature review, explain at least two environmental or behavioral factors that could contribute to this lower detection.\n",
        "\"\"\"\n",
        "\n",
        "response_3= client.models.generate_content(\n",
        "    model= \"gemini-2.5-flash\",\n",
        "    contents= [\n",
        "        types.Part.from_bytes(\n",
        "            data=filepath.read_bytes(),\n",
        "            mime_type=\"application/pdf\"\n",
        "        ), prompt\n",
        "    ])\n",
        "\n",
        "print(response_3.text)\n",
        "\n",
        "\n",
        "# this will give you the exact page and even section also"
      ],
      "metadata": {
        "colab": {
          "base_uri": "https://localhost:8080/"
        },
        "id": "gSp2CAMVbze6",
        "outputId": "8be4a6cc-bae1-4996-f4b0-25ec404a79b3"
      },
      "execution_count": null,
      "outputs": [
        {
          "output_type": "stream",
          "name": "stdout",
          "text": [
            "Based on the early-stage diagnosis percentages provided in Section 4.2.2 (\"Proportion of Early-Stage Diagnoses by Cancer Type and\"), the cancer type with the **lowest early-stage detection rate** is:\n",
            "\n",
            "*   **Lung Cancer: 38.43%** of cases are diagnosed at Stage 0 and Stage I.\n",
            "\n",
            "Using the literature review (Chapter 2), at least two environmental or behavioral factors that could contribute to this lower early-stage detection of lung cancer include:\n",
            "\n",
            "1.  **Smoking (Behavioral Factor - Section 2.3):**\n",
            "    The literature review explicitly states that \"Smoking... Strongly linked to lung, throat, bladder, and pancreatic cancers.\" For lung cancer, smoking can contribute to lower early detection in several ways:\n",
            "    *   **Masking Symptoms:** Smokers often experience chronic coughs or shortness of breath due to smoking itself (e.g., \"smoker's cough,\" COPD). These symptoms are also early indicators of lung cancer, but they may be dismissed by the patient or even initially by healthcare providers as smoking-related issues rather than signs of cancer, delaying diagnosis.\n",
            "    *   **Late Presentation:** Lung cancer often develops silently for a long time. By the time symptoms become severe enough to warrant thorough investigation, the disease is frequently in an advanced stage. The high prevalence of smoking as a cause means a large number of these cancers will inherently present late.\n",
            "\n",
            "2.  **Environmental Exposures (e.g., Radon Gas and Air Pollution - Section 2.4):**\n",
            "    Section 2.4 notes that \"Radon gas (lung cancer)\" and \"Particulate matter (PM2.5 and PM10) in air pollution—now classified as a Group 1 carcinogen by the International Agency for Research on Cancer (IARC)\" are significant environmental carcinogens.\n",
            "    *   **Invisible and Insidious Exposure:** Exposure to radon gas is often undetectable by individuals as it is odorless and invisible, occurring unknowingly in homes. Similarly, while visible pollution is apparent, the harmful particulate matter (PM2.5, PM10) is often unseen and its effects on the body are cumulative over long periods.\n",
            "    *   **Lack of Awareness and Non-specific Symptoms:** Because exposure to these factors is often hidden or goes unnoticed, individuals may not be aware they are at high risk. When symptoms do emerge, they are often non-specific respiratory issues that can be mistaken for common ailments, leading to delays in seeking specialized medical attention or being directed towards cancer screening. This lack of risk awareness, combined with the often late onset of clear symptoms, hinders early detection efforts.\n"
          ]
        }
      ]
    },
    {
      "cell_type": "code",
      "source": [],
      "metadata": {
        "id": "_73p0-sBY4lC"
      },
      "execution_count": null,
      "outputs": []
    },
    {
      "cell_type": "code",
      "source": [
        "# comparing 2 pdf\n",
        "\n",
        "from google import genai\n",
        "from google.genai import types\n",
        "import pathlib\n",
        "\n",
        "client = genai.Client()\n",
        "\n",
        "# File paths for both strategies\n",
        "strategy1_path = pathlib.Path('/content/Streategy 1.pdf')\n",
        "strategy2_path = pathlib.Path('/content/Streategy 2.pdf')\n",
        "\n",
        "prompt = \"Tell me the difference between both the strategies\"\n",
        "\n",
        "\n",
        "# Generate content with both PDFs passed as separate inputs\n",
        "response_4 = client.models.generate_content(\n",
        "    model=\"gemini-2.5-flash\",\n",
        "    contents=[\n",
        "        types.Part.from_bytes(\n",
        "            data=strategy1_path.read_bytes(),\n",
        "            mime_type='application/pdf'\n",
        "        ),\n",
        "        types.Part.from_bytes(\n",
        "            data=strategy2_path.read_bytes(),\n",
        "            mime_type='application/pdf'\n",
        "        ),\n",
        "        prompt\n",
        "    ]\n",
        ")\n",
        "\n",
        "print(response_4.text)"
      ],
      "metadata": {
        "colab": {
          "base_uri": "https://localhost:8080/"
        },
        "id": "mSx1CC6kbzjU",
        "outputId": "c79dfbbc-c095-4c5f-c60f-35b9494b6633"
      },
      "execution_count": null,
      "outputs": [
        {
          "output_type": "stream",
          "name": "stdout",
          "text": [
            "The two strategies, **Growth Through Product-Led Strategy (PLG)** and **Growth Through Strategic Partnerships**, represent fundamentally different approaches to achieving business growth:\n",
            "\n",
            "Here's a breakdown of their core differences:\n",
            "\n",
            "| Feature           | Product-Led Strategy (PLG)                                   | Strategic Partnerships                                       |\n",
            "| :---------------- | :----------------------------------------------------------- | :----------------------------------------------------------- |\n",
            "| **Core Idea**     | The product itself is the primary driver of customer acquisition, conversion, and expansion. It sells itself. | Collaborate with established players or complementary businesses to gain access to their audience, credibility, and resources. |\n",
            "| **Source of Growth** | **Internal:** Driven by the inherent value, user experience, and virality built *into the product itself*. | **External:** Driven by leveraging the existing audience, trust, and resources of *other companies*. |\n",
            "| **Primary Focus** | Developing an exceptional product, user experience, and intrinsic value. | Building and managing relationships with other organizations. |\n",
            "| **Mechanism**     | Users discover, adopt, and spread the product organically due to its ease of use, value, and built-in sharing features (e.g., freemium, viral loops). | Partners expose your product/service to their existing customer base, share resources, or co-create solutions. |\n",
            "| **Key Activities** | Obsessing over UX, freemium/trial models, viral loops, data-driven iteration, customer feedback loops. | Identifying complementary partners, structuring mutual value propositions, leveraging brand credibility, co-creation, cross-promotion. |\n",
            "| **\"Selling\" Tool** | The product's features, usability, and direct value to the user. | The partner's brand, audience, and existing relationship with their customers. |\n",
            "| **Best For**      | Startups with scalable SaaS, consumer apps, or digital platforms where ease of adoption and product stickiness can drive growth. | Startups in B2B, niche consumer products, or markets where gaining quick credibility and access to large customer bases is crucial. |\n",
            "| **Example**       | Slack growing organically as small teams adopted it and invited colleagues due to its smooth experience. | Spotify partnering with Uber to offer in-trip music control, gaining visibility and enhancing brand value for both. |\n",
            "\n",
            "In essence:\n",
            "*   **PLG** is about making your product so good that it pulls customers in and expands on its own merit.\n",
            "*   **Strategic Partnerships** are about pushing your product out to new audiences and gaining credibility by riding on the coattails of established entities.\n"
          ]
        }
      ]
    },
    {
      "cell_type": "code",
      "source": [],
      "metadata": {
        "id": "YEL4OHqFaVor"
      },
      "execution_count": null,
      "outputs": []
    },
    {
      "cell_type": "code",
      "source": [
        "from google import genai\n",
        "from google.genai import types\n",
        "import pathlib\n",
        "\n",
        "client = genai.Client()\n",
        "\n",
        "# File paths for both strategies\n",
        "strategy1_path = pathlib.Path('/content/Streategy 1.pdf')\n",
        "strategy2_path = pathlib.Path('/content/Streategy 2.pdf')\n",
        "\n",
        "\n",
        "prompt = \"Tell me the similarity between both the strategies\"\n",
        "\n",
        "# Generate content with both PDFs passed as separate inputs\n",
        "response_5 = client.models.generate_content(\n",
        "    model=\"gemini-2.5-flash\",\n",
        "    contents=[\n",
        "        types.Part.from_bytes(\n",
        "            data=strategy1_path.read_bytes(),\n",
        "            mime_type='application/pdf'\n",
        "        ),\n",
        "        types.Part.from_bytes(\n",
        "            data=strategy2_path.read_bytes(),\n",
        "            mime_type='application/pdf'\n",
        "        ),\n",
        "        prompt\n",
        "    ]\n",
        ")\n",
        "\n",
        "print(response_5.text)"
      ],
      "metadata": {
        "colab": {
          "base_uri": "https://localhost:8080/"
        },
        "outputId": "c7a4f992-e9dd-4201-c91a-5bfde237362c",
        "id": "RlhhHu86bHuD"
      },
      "execution_count": null,
      "outputs": [
        {
          "output_type": "stream",
          "name": "stdout",
          "text": [
            "The primary similarity between Growth Through Product-Led Strategy (PLG) and Growth Through Strategic Partnerships is that **both are scalable strategies aimed at acquiring customers, expanding market reach, and driving business growth, often by leveraging existing assets or channels rather than solely relying on direct, heavy sales or marketing spend.**\n",
            "\n",
            "While their *methods* differ significantly (one focusing on the product itself, the other on external relationships), their ultimate *goal* is the same: to grow the business by efficiently reaching and converting new users.\n"
          ]
        }
      ]
    },
    {
      "cell_type": "code",
      "source": [],
      "metadata": {
        "id": "pM1iSnsobJt4"
      },
      "execution_count": null,
      "outputs": []
    }
  ]
}