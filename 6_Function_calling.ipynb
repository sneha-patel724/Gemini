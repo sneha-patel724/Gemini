{
  "nbformat": 4,
  "nbformat_minor": 0,
  "metadata": {
    "colab": {
      "provenance": []
    },
    "kernelspec": {
      "name": "python3",
      "display_name": "Python 3"
    },
    "language_info": {
      "name": "python"
    }
  },
  "cells": [
    {
      "cell_type": "code",
      "execution_count": null,
      "metadata": {
        "id": "bfzCnL71Dr3n"
      },
      "outputs": [],
      "source": [
        "# STEP 1: Install the Google Generative AI SDK\n",
        "!pip install -q google-generativeai"
      ]
    },
    {
      "cell_type": "code",
      "source": [
        "import os\n",
        "os.environ[\"GOOGLE_API_KEY\"] = \"ENTER API KEY\"\n"
      ],
      "metadata": {
        "id": "pTv1LnaBDtvS"
      },
      "execution_count": null,
      "outputs": []
    },
    {
      "cell_type": "code",
      "source": [
        "# text generation from the model.\n",
        "from google import genai\n",
        "\n",
        "client = genai.Client()\n",
        "#response = client.models.generate_content( model=\"gemini-2.5-pro\",contents=\"Hey\")\n",
        "response = client.models.generate_content( model=\"gemini-2.5-flash\",contents=\"What iS CURRENT date AND TIME IN DELHI\")\n",
        "print(response.text)"
      ],
      "metadata": {
        "colab": {
          "base_uri": "https://localhost:8080/"
        },
        "id": "gbz1G-bbDzjZ",
        "outputId": "68b63cb1-0a00-4c91-a0f2-1fb4716059dc"
      },
      "execution_count": null,
      "outputs": [
        {
          "output_type": "stream",
          "name": "stdout",
          "text": [
            "Today in Delhi, India, it is:\n",
            "\n",
            "**[Current Day of the Week], [Current Month] [Current Day], [Current Year]**\n",
            "**[Current Time in HH:MM:SS AM/PM] IST**\n",
            "\n",
            "*(For example: Tuesday, May 7, 2024 at 10:30:00 AM IST)*\n",
            "\n",
            "Indian Standard Time (IST) is UTC+5:30.\n"
          ]
        }
      ]
    },
    {
      "cell_type": "code",
      "source": [
        "response = client.models.generate_content( model=\"gemini-2.5-flash\",contents=\"What do you know about Operation Sindoor By Indian Army.\")\n",
        "print(response.text)"
      ],
      "metadata": {
        "colab": {
          "base_uri": "https://localhost:8080/"
        },
        "id": "-lCbESCBD33s",
        "outputId": "aedb6dcb-ebb5-4dc7-ac77-1135113e1cda"
      },
      "execution_count": null,
      "outputs": [
        {
          "output_type": "stream",
          "name": "stdout",
          "text": [
            "I cannot find any widely known or officially documented Indian Army operation named \"Operation Sindoor.\"\n",
            "\n",
            "It's possible that:\n",
            "*   The name is incorrect or a misunderstanding.\n",
            "*   It refers to a very localized, unofficial, or fictional event (e.g., in a book, movie, or story).\n",
            "*   It's an internal code name that was never publicly disclosed.\n",
            "\n",
            "Military operations usually have specific codenames, and \"Sindoor\" (vermilion, a traditional Hindu symbol of marriage) would be a highly unusual choice for an official military operation name.\n",
            "\n",
            "If you have more context about where you heard this name, it might help to clarify what it refers to.\n"
          ]
        }
      ]
    },
    {
      "cell_type": "code",
      "source": [
        "response_1 = client.models.generate_content( model=\"gemini-2.5-flash\",contents=\"What is current temperature of Chandigarh\")\n",
        "print(response_1.text)"
      ],
      "metadata": {
        "colab": {
          "base_uri": "https://localhost:8080/"
        },
        "id": "fLmc0LpaD5kC",
        "outputId": "ade52807-da50-499a-cb0a-0eddbb117f10"
      },
      "execution_count": null,
      "outputs": [
        {
          "output_type": "stream",
          "name": "stdout",
          "text": [
            "As of my last update, the current temperature in Chandigarh is approximately **28°C (82°F)**, with conditions described as **hazy**.\n",
            "\n",
            "For the most real-time and up-to-the-minute information, I recommend checking a live weather service or app.\n"
          ]
        }
      ]
    },
    {
      "cell_type": "code",
      "source": [
        "response_2 = client.models.generate_content( model=\"gemini-2.5-flash\",contents=\"Send an email :- 'Sorry' to the mail address:-'sati76857@gmail.com'\")\n",
        "print(response_2.text)\n"
      ],
      "metadata": {
        "colab": {
          "base_uri": "https://localhost:8080/"
        },
        "id": "Y8xQnQGZD7Is",
        "outputId": "e62633b5-4ec3-4115-edb8-7f2e1231c303"
      },
      "execution_count": null,
      "outputs": [
        {
          "output_type": "stream",
          "name": "stdout",
          "text": [
            "I cannot directly send emails. However, I can provide you with the content to send it yourself.\n",
            "\n",
            "**To:** sati76857@gmail.com\n",
            "**Subject:** Sorry\n",
            "\n",
            "**Body:**\n",
            "Sorry.\n"
          ]
        }
      ]
    },
    {
      "cell_type": "markdown",
      "source": [
        "# The Core Problem: LLMs are Isolated Brains\n",
        "\n",
        "By default, a large language model (LLMs) is like a brilliant brain in a jar. It possesses vast amounts of knowledge, but it's static and disconnected from the real world.\n",
        "\n",
        "One major limitation is its knowledge cutoff, its information is frozen at the point when its training data was collected. That means it doesn't know the current date, today's weather, or recent news.\n",
        "\n",
        "Another key limitation is its inability to act. The model cannot perform actions such as sending an email, booking a flight, checking the temperature of your city, or querying a private database. It can only generate text."
      ],
      "metadata": {
        "id": "DUO7D-ioWhC1"
      }
    },
    {
      "cell_type": "code",
      "source": [
        "# As we known that gemini model is very strong .that gives text , image and audio even solves the logical questions .\n",
        "# But its builds for text generation , image generation ,\n",
        "# as you can see we asked about time and operation sindoor and he could not answer it  because of its to upto date\n",
        "# LLM have boundaries that's why unable to think outside of box\n",
        "\n",
        "\n",
        "# so we use Function Calling"
      ],
      "metadata": {
        "id": "AGSa0EIB1w5W"
      },
      "execution_count": null,
      "outputs": []
    },
    {
      "cell_type": "markdown",
      "source": [
        "#FUNCTION CALLING\n",
        "\n",
        "Function calling is the mechanism that gives this brain \"hands and senses\" to interact with the outside\n",
        "world external systems and APIs in a structured way.\n",
        "\n",
        "It is an feature that allows developers to create an function for an specific task , pass it to the model and model based\n",
        "on the problem asked use that function and give the output."
      ],
      "metadata": {
        "id": "xf_h-CBg4Zb3"
      }
    },
    {
      "cell_type": "code",
      "source": [
        "import datetime\n",
        "import pytz # time-zone\n",
        "\n",
        "tz= pytz.timezone(\"Asia/Kolkata\")  ##Indian timezone\n",
        "print(tz)\n",
        "\n",
        "now = datetime.datetime.now(tz)  # non-readable form"
      ],
      "metadata": {
        "colab": {
          "base_uri": "https://localhost:8080/"
        },
        "id": "30FPR93vD9Jd",
        "outputId": "1d67ea07-379b-46f4-f7ae-3716e0e1fadc"
      },
      "execution_count": null,
      "outputs": [
        {
          "output_type": "stream",
          "name": "stdout",
          "text": [
            "Asia/Kolkata\n"
          ]
        }
      ]
    },
    {
      "cell_type": "code",
      "source": [
        "print(now.strftime(\"%Y-%m-%d\"))          # Date\n",
        "print(now.strftime(\"%I:%M:%S %p\"))       # Time (HRS,MINT,SEC,AM/PM)"
      ],
      "metadata": {
        "colab": {
          "base_uri": "https://localhost:8080/"
        },
        "id": "v8Q0ughREIiV",
        "outputId": "f6c48a5c-f2ff-44e8-8c64-60dc45c2f11b"
      },
      "execution_count": null,
      "outputs": [
        {
          "output_type": "stream",
          "name": "stdout",
          "text": [
            "2025-10-21\n",
            "09:43:02 AM\n"
          ]
        }
      ]
    },
    {
      "cell_type": "code",
      "source": [
        "# TYPE HINTING ( which type of input you give and which type of output you want)\n",
        "# Description\n",
        "# these both are not compulsoiry but recommended\n",
        "# Benifit of using this\n",
        "# when you call your model and pass the function ,model easily understand that which model to use to solve this problem"
      ],
      "metadata": {
        "id": "WGlsDbcZ5Umt"
      },
      "execution_count": null,
      "outputs": []
    },
    {
      "cell_type": "code",
      "source": [
        "# type-hinting\n",
        "# description\n",
        "\n",
        "def get_current_datetime(timezone: str =\"UTC\") -> dict:\n",
        "  \"\"\"Fetches  the current date and time  for the given  timezone.\n",
        "\n",
        "  Args:\n",
        "     timezone(str): the timezone  name (eg=\"Asia/Kolkata\",\"UTC\")\n",
        "\n",
        "  Returns:\n",
        "     dict: A dictionary containing  the current date and time  in the specified timezone,\n",
        "          or an error message  if the timezone is invalid.\n",
        "  \"\"\"\n",
        "\n",
        "  print(f\"-- Function  get_current_datetime is called for the timezone {timezone}\")  # when we call function this line will print\n",
        "  try:\n",
        "     tz= pytz.timezone(timezone)\n",
        "     now = datetime.datetime.now(tz)\n",
        "\n",
        "     return{\n",
        "         \"date\":now.strftime(\"%Y-%m-%d\"),\n",
        "         \"time\":now.strftime(\"%I:%M:%S %p\")\n",
        "     }\n",
        "  except pytz.UnknownTimeZoneError:\n",
        "     return {\"error: Invalid Timezone Specified.\"}"
      ],
      "metadata": {
        "id": "vZNoqopTEIn7"
      },
      "execution_count": null,
      "outputs": []
    },
    {
      "cell_type": "code",
      "source": [
        "get_current_datetime(\"Asia/Kolkata\")"
      ],
      "metadata": {
        "colab": {
          "base_uri": "https://localhost:8080/"
        },
        "id": "itaGqGpO9DbQ",
        "outputId": "c9ecadfd-8fed-43a2-cf7a-65962a4890ef"
      },
      "execution_count": null,
      "outputs": [
        {
          "output_type": "stream",
          "name": "stdout",
          "text": [
            "-- Function  get_current_datetime is called for the timezone Asia/Kolkata\n"
          ]
        },
        {
          "output_type": "execute_result",
          "data": {
            "text/plain": [
              "{'date': '2025-10-21', 'time': '09:43:02 AM'}"
            ]
          },
          "metadata": {},
          "execution_count": 12
        }
      ]
    },
    {
      "cell_type": "code",
      "source": [
        "from google.genai import types\n",
        "client= genai.Client()\n",
        "\n",
        "response= client.models.generate_content(\n",
        "    model=\"gemini-2.5-flash\",\n",
        "    contents=\"What is the current date and time in china\",\n",
        "    config= types.GenerateContentConfig(\n",
        "        tools=[get_current_datetime]\n",
        "    )\n",
        ")\n",
        "\n",
        "print(response.text)"
      ],
      "metadata": {
        "colab": {
          "base_uri": "https://localhost:8080/"
        },
        "id": "iQ3l3BD0EItJ",
        "outputId": "adce92a1-315a-46be-a195-b80860a479a3"
      },
      "execution_count": null,
      "outputs": [
        {
          "output_type": "stream",
          "name": "stdout",
          "text": [
            "-- Function  get_current_datetime is called for the timezone Asia/Shanghai\n",
            "The current date and time in China is 2025-10-21 12:13:03 PM.\n"
          ]
        }
      ]
    },
    {
      "cell_type": "code",
      "source": [
        "# understand whats going on backgroud , so add thinking_config class\n",
        "from google.genai import types\n",
        "client= genai.Client()\n",
        "\n",
        "response_3= client.models.generate_content(\n",
        "    model=\"gemini-2.5-flash\",\n",
        "    contents=\"What is current date and time in Delhi\",  # if you ask any other question function will not run\n",
        "    config= types.GenerateContentConfig(\n",
        "        tools=[get_current_datetime],\n",
        "        thinking_config= types.ThinkingConfig(\n",
        "            include_thoughts=True\n",
        "        )\n",
        "    )\n",
        ")\n",
        "\n"
      ],
      "metadata": {
        "colab": {
          "base_uri": "https://localhost:8080/"
        },
        "id": "i0VfbK0bEIx0",
        "outputId": "d2043f4a-47ea-46d9-b816-a291d1028c5a"
      },
      "execution_count": null,
      "outputs": [
        {
          "output_type": "stream",
          "name": "stdout",
          "text": [
            "-- Function  get_current_datetime is called for the timezone Asia/Kolkata\n"
          ]
        }
      ]
    },
    {
      "cell_type": "code",
      "source": [
        "response_3"
      ],
      "metadata": {
        "colab": {
          "base_uri": "https://localhost:8080/"
        },
        "id": "ThAnSJ74_rTg",
        "outputId": "907f544f-160a-47e1-951f-34ab48094e39"
      },
      "execution_count": null,
      "outputs": [
        {
          "output_type": "execute_result",
          "data": {
            "text/plain": [
              "GenerateContentResponse(\n",
              "  automatic_function_calling_history=[\n",
              "    UserContent(\n",
              "      parts=[\n",
              "        Part(\n",
              "          text='What is current date and time in Delhi'\n",
              "        ),\n",
              "      ],\n",
              "      role='user'\n",
              "    ),\n",
              "    Content(\n",
              "      parts=[\n",
              "        Part(\n",
              "          text=\"\"\"**Determining the Current Time in Delhi**\n",
              "\n",
              "Okay, so I need to find out the current date and time in Delhi.  It's clear the user is asking for this specifically, and I know I have a `get_current_datetime` tool that can handle timezones.  My knowledge base tells me Delhi is in the \"Asia/Kolkata\" timezone, so the correct approach is to call that tool with the `timezone` parameter set to \"Asia/Kolkata\".  That should give me the answer I need.\n",
              "\"\"\",\n",
              "          thought=True\n",
              "        ),\n",
              "        Part(\n",
              "          function_call=FunctionCall(\n",
              "            args={<... 1 item at Max depth ...>},\n",
              "            name='get_current_datetime'\n",
              "          ),\n",
              "          thought_signature=b'\\n\\xb2\\x02\\x01\\xd1\\xed\\x8aoG\\x8a\\xf9\\x01v\\xe40h\\xf8\\x9b\\x96\\xde~J@\\x83T\\x01\\x07\\x0c\\x8f!\\xefWds\\x932E\\xa2\\xc9\\xd6q\\xa8\\xfd\\x86I\\x17T?X\\xbf\\x18\\x18u\\xadngoqu\\xe9\\xe3\\xab\\xc8$\\x17\\x04/\\x8ds\\x00\\xdc\\xa1\\x87\\xc9I\\xca\\xc2\\xcb5\\xfc\\x8c\\x92\\x19y\\xad\\xc6\\xa7\\x08A\\xa5x@\\xc3\\x92\\xcd\\xc1X...'\n",
              "        ),\n",
              "      ],\n",
              "      role='model'\n",
              "    ),\n",
              "    Content(\n",
              "      parts=[\n",
              "        Part(\n",
              "          function_response=FunctionResponse(\n",
              "            name='get_current_datetime',\n",
              "            response={<... 1 item at Max depth ...>}\n",
              "          )\n",
              "        ),\n",
              "      ],\n",
              "      role='user'\n",
              "    ),\n",
              "  ],\n",
              "  candidates=[\n",
              "    Candidate(\n",
              "      content=Content(\n",
              "        parts=[\n",
              "          Part(\n",
              "            text='The current date and time in Delhi is 2025-10-21 09:43:06 AM.'\n",
              "          ),\n",
              "        ],\n",
              "        role='model'\n",
              "      ),\n",
              "      finish_reason=<FinishReason.STOP: 'STOP'>,\n",
              "      index=0\n",
              "    ),\n",
              "  ],\n",
              "  model_version='gemini-2.5-flash',\n",
              "  response_id='Ugj3aIz5MdfUjMcPyeqfmQ4',\n",
              "  sdk_http_response=HttpResponse(\n",
              "    headers=<dict len=10>\n",
              "  ),\n",
              "  usage_metadata=GenerateContentResponseUsageMetadata(\n",
              "    candidates_token_count=30,\n",
              "    prompt_token_count=302,\n",
              "    prompt_tokens_details=[\n",
              "      ModalityTokenCount(\n",
              "        modality=<MediaModality.TEXT: 'TEXT'>,\n",
              "        token_count=302\n",
              "      ),\n",
              "    ],\n",
              "    total_token_count=332\n",
              "  )\n",
              ")"
            ]
          },
          "metadata": {},
          "execution_count": 15
        }
      ]
    },
    {
      "cell_type": "code",
      "source": [
        "response_3.automatic_function_calling_history[0]   # role = 'user' its you"
      ],
      "metadata": {
        "colab": {
          "base_uri": "https://localhost:8080/"
        },
        "id": "6iSa1uMaEI6T",
        "outputId": "f84a83a9-909c-4dd2-8832-c01bf7cd6ec7"
      },
      "execution_count": null,
      "outputs": [
        {
          "output_type": "execute_result",
          "data": {
            "text/plain": [
              "UserContent(\n",
              "  parts=[\n",
              "    Part(\n",
              "      text='What is current date and time in Delhi'\n",
              "    ),\n",
              "  ],\n",
              "  role='user'\n",
              ")"
            ]
          },
          "metadata": {},
          "execution_count": 16
        }
      ]
    },
    {
      "cell_type": "code",
      "source": [
        "response_3.automatic_function_calling_history[1]"
      ],
      "metadata": {
        "colab": {
          "base_uri": "https://localhost:8080/"
        },
        "outputId": "0ff9c864-1877-41f6-ffc4-5049af2c119d",
        "id": "pNKYuN0jBrTW"
      },
      "execution_count": null,
      "outputs": [
        {
          "output_type": "execute_result",
          "data": {
            "text/plain": [
              "Content(\n",
              "  parts=[\n",
              "    Part(\n",
              "      text=\"\"\"**Determining the Current Time in Delhi**\n",
              "\n",
              "Okay, so I need to find out the current date and time in Delhi.  It's clear the user is asking for this specifically, and I know I have a `get_current_datetime` tool that can handle timezones.  My knowledge base tells me Delhi is in the \"Asia/Kolkata\" timezone, so the correct approach is to call that tool with the `timezone` parameter set to \"Asia/Kolkata\".  That should give me the answer I need.\n",
              "\"\"\",\n",
              "      thought=True\n",
              "    ),\n",
              "    Part(\n",
              "      function_call=FunctionCall(\n",
              "        args={\n",
              "          'timezone': 'Asia/Kolkata'\n",
              "        },\n",
              "        name='get_current_datetime'\n",
              "      ),\n",
              "      thought_signature=b'\\n\\xb2\\x02\\x01\\xd1\\xed\\x8aoG\\x8a\\xf9\\x01v\\xe40h\\xf8\\x9b\\x96\\xde~J@\\x83T\\x01\\x07\\x0c\\x8f!\\xefWds\\x932E\\xa2\\xc9\\xd6q\\xa8\\xfd\\x86I\\x17T?X\\xbf\\x18\\x18u\\xadngoqu\\xe9\\xe3\\xab\\xc8$\\x17\\x04/\\x8ds\\x00\\xdc\\xa1\\x87\\xc9I\\xca\\xc2\\xcb5\\xfc\\x8c\\x92\\x19y\\xad\\xc6\\xa7\\x08A\\xa5x@\\xc3\\x92\\xcd\\xc1X...'\n",
              "    ),\n",
              "  ],\n",
              "  role='model'\n",
              ")"
            ]
          },
          "metadata": {},
          "execution_count": 17
        }
      ]
    },
    {
      "cell_type": "code",
      "source": [],
      "metadata": {
        "id": "vQ3syB_GBseV"
      },
      "execution_count": null,
      "outputs": []
    },
    {
      "cell_type": "code",
      "source": [
        "response_3.automatic_function_calling_history[1].parts[0]"
      ],
      "metadata": {
        "colab": {
          "base_uri": "https://localhost:8080/"
        },
        "id": "19AS3iavEJDJ",
        "outputId": "bb349f7a-0052-46ee-8b57-43283875273b"
      },
      "execution_count": null,
      "outputs": [
        {
          "output_type": "execute_result",
          "data": {
            "text/plain": [
              "Part(\n",
              "  text=\"\"\"**Determining the Current Time in Delhi**\n",
              "\n",
              "Okay, so I need to find out the current date and time in Delhi.  It's clear the user is asking for this specifically, and I know I have a `get_current_datetime` tool that can handle timezones.  My knowledge base tells me Delhi is in the \"Asia/Kolkata\" timezone, so the correct approach is to call that tool with the `timezone` parameter set to \"Asia/Kolkata\".  That should give me the answer I need.\n",
              "\"\"\",\n",
              "  thought=True\n",
              ")"
            ]
          },
          "metadata": {},
          "execution_count": 18
        }
      ]
    },
    {
      "cell_type": "code",
      "source": [],
      "metadata": {
        "id": "tnHuc1zhCVbL"
      },
      "execution_count": null,
      "outputs": []
    },
    {
      "cell_type": "code",
      "source": [
        "response_3.automatic_function_calling_history[1].parts[1]  #  resend to user/system   makes a JSON structure\n",
        "\n",
        "# gemini -- function execute(X)\n",
        "# internal thinking :- function, arguments [value]\n",
        "# after making sure about internal thinking now , it will create a JSON structure\n",
        "\n",
        "# gemini- json schema :- function , arguments , value  ----->system.\n",
        "# gemini have no power to execute any function\n",
        "\n",
        "\n",
        "# system -- command  -- [gemini : function]  , system"
      ],
      "metadata": {
        "colab": {
          "base_uri": "https://localhost:8080/"
        },
        "id": "-FZ1SqosEJHM",
        "outputId": "55e548c0-ca69-46f1-da85-c3c2ea4cdf64"
      },
      "execution_count": null,
      "outputs": [
        {
          "output_type": "execute_result",
          "data": {
            "text/plain": [
              "Part(\n",
              "  function_call=FunctionCall(\n",
              "    args={\n",
              "      'timezone': 'Asia/Kolkata'\n",
              "    },\n",
              "    name='get_current_datetime'\n",
              "  ),\n",
              "  thought_signature=b'\\n\\xb2\\x02\\x01\\xd1\\xed\\x8aoG\\x8a\\xf9\\x01v\\xe40h\\xf8\\x9b\\x96\\xde~J@\\x83T\\x01\\x07\\x0c\\x8f!\\xefWds\\x932E\\xa2\\xc9\\xd6q\\xa8\\xfd\\x86I\\x17T?X\\xbf\\x18\\x18u\\xadngoqu\\xe9\\xe3\\xab\\xc8$\\x17\\x04/\\x8ds\\x00\\xdc\\xa1\\x87\\xc9I\\xca\\xc2\\xcb5\\xfc\\x8c\\x92\\x19y\\xad\\xc6\\xa7\\x08A\\xa5x@\\xc3\\x92\\xcd\\xc1X...'\n",
              ")"
            ]
          },
          "metadata": {},
          "execution_count": 19
        }
      ]
    },
    {
      "cell_type": "code",
      "source": [],
      "metadata": {
        "id": "hxhmiolzC9nv"
      },
      "execution_count": null,
      "outputs": []
    },
    {
      "cell_type": "code",
      "source": [
        "response_3.automatic_function_calling_history[2] # executed by user\n",
        "\n"
      ],
      "metadata": {
        "colab": {
          "base_uri": "https://localhost:8080/"
        },
        "outputId": "49c72de8-983d-4383-e95f-509e4ba5819f",
        "id": "C2B5SCNzGHNX"
      },
      "execution_count": null,
      "outputs": [
        {
          "output_type": "execute_result",
          "data": {
            "text/plain": [
              "Content(\n",
              "  parts=[\n",
              "    Part(\n",
              "      function_response=FunctionResponse(\n",
              "        name='get_current_datetime',\n",
              "        response={\n",
              "          'result': {\n",
              "            'date': '2025-10-21',\n",
              "            'time': '09:43:06 AM'\n",
              "          }\n",
              "        }\n",
              "      )\n",
              "    ),\n",
              "  ],\n",
              "  role='user'\n",
              ")"
            ]
          },
          "metadata": {},
          "execution_count": 20
        }
      ]
    },
    {
      "cell_type": "code",
      "source": [
        "response_3.candidates\n",
        "\n",
        "# after excecuting\n",
        "# output of this function ---> goes as input to the model\n",
        "# to convert into a structured form"
      ],
      "metadata": {
        "colab": {
          "base_uri": "https://localhost:8080/"
        },
        "outputId": "587b5f66-e863-4893-9207-b74294920cfe",
        "id": "beYoMmxpIkIf"
      },
      "execution_count": null,
      "outputs": [
        {
          "output_type": "execute_result",
          "data": {
            "text/plain": [
              "[Candidate(\n",
              "   content=Content(\n",
              "     parts=[\n",
              "       Part(\n",
              "         text='The current date and time in Delhi is 2025-10-21 09:43:06 AM.'\n",
              "       ),\n",
              "     ],\n",
              "     role='model'\n",
              "   ),\n",
              "   finish_reason=<FinishReason.STOP: 'STOP'>,\n",
              "   index=0\n",
              " )]"
            ]
          },
          "metadata": {},
          "execution_count": 21
        }
      ]
    },
    {
      "cell_type": "code",
      "source": [
        "response_3.candidates"
      ],
      "metadata": {
        "colab": {
          "base_uri": "https://localhost:8080/"
        },
        "id": "yIZSlyh3EJO3",
        "outputId": "cda2bc6f-b2c1-4376-8529-8f0c2abfd23b"
      },
      "execution_count": null,
      "outputs": [
        {
          "output_type": "execute_result",
          "data": {
            "text/plain": [
              "[Candidate(\n",
              "   content=Content(\n",
              "     parts=[\n",
              "       Part(\n",
              "         text='The current date and time in Delhi is 2025-10-21 09:43:06 AM.'\n",
              "       ),\n",
              "     ],\n",
              "     role='model'\n",
              "   ),\n",
              "   finish_reason=<FinishReason.STOP: 'STOP'>,\n",
              "   index=0\n",
              " )]"
            ]
          },
          "metadata": {},
          "execution_count": 22
        }
      ]
    },
    {
      "cell_type": "markdown",
      "source": [
        "# Qucik revision\n",
        "\n",
        "\n",
        "1. make a function\n",
        "2. LLM ko intialize kartey time function kiya\n",
        "3. LLM ko ek prompt dia\n",
        "4. it will now decide , can i give output or not\n",
        "5. if yes then it will give output\n",
        "6. if no, then it will decide that which function to use\n",
        "7. after deciding function\n",
        "   it study's the function , think arrgument of the function\n",
        "after deciding which model and function it will use\n",
        "8. now, it will create JSON schema\n",
        "JSON schema ---> argument ---> argument values\n",
        "then this jJSON schema pass to the system\n",
        "9. after to the system function will call\n",
        "gives output ---> fetched by model ( not in the form of human readable)\n",
        "10. model ---> process the outputgenerate into the textual generation"
      ],
      "metadata": {
        "id": "xPMN7JrgBc_G"
      }
    },
    {
      "cell_type": "code",
      "source": [
        "# PARALLEL FUNCTION CALLING.\n",
        "# LLM -- AUTOMATICALLY DECIDE  WHICH FUNCTION TO CALL.\n",
        "# MULTIPLE : LLM CAN DO.\n",
        "\n",
        "# USER :- TELL ME CURRENT DATE TIME AND  TEMPERATURE  OF DELHI."
      ],
      "metadata": {
        "id": "QF7TJ8bsEJoM"
      },
      "execution_count": null,
      "outputs": []
    },
    {
      "cell_type": "code",
      "source": [
        "def get_temperature(city: str) -> dict:\n",
        "    \"\"\"\n",
        "    function that returns temperature data for a given city.\n",
        "\n",
        "    Args:\n",
        "        city (str): Name of the city\n",
        "\n",
        "    Returns:\n",
        "        dict: A dictionary with temperature and condition\n",
        "    \"\"\"\n",
        "    print(f\"--- Function get_temperature ({city} Called\")  # when function call it will print\n",
        "    # Hardcoded fake temperature data\n",
        "    fake_data = {\n",
        "        \"New York\": {\"temperature\": \"30°C\", \"condition\": \"Sunny\"},\n",
        "        \"Delhi\": {\"temperature\": \"36°C\", \"condition\": \"Hot and Dry\"},\n",
        "        \"London\": {\"temperature\": \"22°C\", \"condition\": \"Cloudy\"},\n",
        "        \"Tokyo\": {\"temperature\": \"28°C\", \"condition\": \"Humid\"},\n",
        "        \"Paris\": {\"temperature\": \"25°C\", \"condition\": \"Breezy\"},\n",
        "    }\n",
        "\n",
        "    # Return fake data if city exists, else give default\n",
        "    return fake_data.get(city, {\"temperature\": \"Unknown\", \"condition\": \"Data not available\"})"
      ],
      "metadata": {
        "id": "lcbd_mSjEJrS"
      },
      "execution_count": null,
      "outputs": []
    },
    {
      "cell_type": "code",
      "source": [
        "from google.genai import types\n",
        "client= genai.Client()\n",
        "\n",
        "response_4= client.models.generate_content(\n",
        "    model=\"gemini-2.5-flash\",\n",
        "    contents=\"What is the current date and time and temperature for Delhi\",\n",
        "    config= types.GenerateContentConfig(\n",
        "        tools=[get_current_datetime,get_temperature],\n",
        "        thinking_config= types.ThinkingConfig(\n",
        "            include_thoughts=True\n",
        "        )\n",
        "    )\n",
        ")\n"
      ],
      "metadata": {
        "colab": {
          "base_uri": "https://localhost:8080/"
        },
        "id": "xCpAZIlgEKag",
        "outputId": "76e86112-9a14-4c67-b78c-f0e3f103e2ed"
      },
      "execution_count": null,
      "outputs": [
        {
          "output_type": "stream",
          "name": "stdout",
          "text": [
            "-- Function  get_current_datetime is called for the timezone Asia/Kolkata\n",
            "--- Function get_temperature (Delhi Called\n"
          ]
        }
      ]
    },
    {
      "cell_type": "code",
      "source": [
        "print(response_4.text)"
      ],
      "metadata": {
        "colab": {
          "base_uri": "https://localhost:8080/"
        },
        "id": "EksxYBH4bzRy",
        "outputId": "62c60255-a467-4907-a4e1-d63b45b966c3"
      },
      "execution_count": null,
      "outputs": [
        {
          "output_type": "stream",
          "name": "stderr",
          "text": [
            "WARNING:google_genai.types:Warning: there are non-text parts in the response: ['thought_signature'], returning concatenated text result from text parts. Check the full candidates.content.parts accessor to get the full model response.\n"
          ]
        },
        {
          "output_type": "stream",
          "name": "stdout",
          "text": [
            "The current date and time for Delhi is 2025-10-21, 09:47:23 AM and the temperature is 36°C, Hot and Dry.\n"
          ]
        }
      ]
    },
    {
      "cell_type": "code",
      "source": [
        "from google.genai import types\n",
        "client= genai.Client()\n",
        "\n",
        "response_4= client.models.generate_content(\n",
        "    model=\"gemini-2.5-flash\",\n",
        "    contents=\"What is the current date and time and temperature for new york\",\n",
        "    config= types.GenerateContentConfig(\n",
        "        tools=[get_current_datetime,get_temperature],\n",
        "        thinking_config= types.ThinkingConfig(\n",
        "            include_thoughts=True\n",
        "        )\n",
        "    )\n",
        ")\n"
      ],
      "metadata": {
        "colab": {
          "base_uri": "https://localhost:8080/"
        },
        "outputId": "1047a31f-e477-41f9-fa13-81c433024ef9",
        "id": "ZXCjjNXHAsyA"
      },
      "execution_count": null,
      "outputs": [
        {
          "output_type": "stream",
          "name": "stdout",
          "text": [
            "-- Function  get_current_datetime is called for the timezone America/New_York\n",
            "--- Function get_temperature (New York Called\n"
          ]
        }
      ]
    },
    {
      "cell_type": "code",
      "source": [
        "response_4.text"
      ],
      "metadata": {
        "colab": {
          "base_uri": "https://localhost:8080/",
          "height": 73
        },
        "id": "TbJBWEVIBE9D",
        "outputId": "08fceabd-4714-48a9-825b-5855a73cc8bf"
      },
      "execution_count": null,
      "outputs": [
        {
          "output_type": "stream",
          "name": "stderr",
          "text": [
            "WARNING:google_genai.types:Warning: there are non-text parts in the response: ['thought_signature'], returning concatenated text result from text parts. Check the full candidates.content.parts accessor to get the full model response.\n"
          ]
        },
        {
          "output_type": "execute_result",
          "data": {
            "text/plain": [
              "'The current date and time for New York is 2025-10-21 12:26:42 AM and the temperature is 30°C and it is Sunny.'"
            ],
            "application/vnd.google.colaboratory.intrinsic+json": {
              "type": "string"
            }
          },
          "metadata": {},
          "execution_count": 33
        }
      ]
    },
    {
      "cell_type": "code",
      "source": [
        "# backend working\n",
        "\n",
        "response_4"
      ],
      "metadata": {
        "colab": {
          "base_uri": "https://localhost:8080/"
        },
        "id": "Y45Yun61BIuK",
        "outputId": "f78e9a88-b9f9-4286-da8c-02bb7d417afe"
      },
      "execution_count": null,
      "outputs": [
        {
          "output_type": "execute_result",
          "data": {
            "text/plain": [
              "GenerateContentResponse(\n",
              "  automatic_function_calling_history=[\n",
              "    UserContent(\n",
              "      parts=[\n",
              "        Part(\n",
              "          text='What is the current date and time and temperature for new york'\n",
              "        ),\n",
              "      ],\n",
              "      role='user'\n",
              "    ),\n",
              "    Content(\n",
              "      parts=[\n",
              "        Part(\n",
              "          text=\"\"\"**Gathering Information for the User's Query**\n",
              "\n",
              "Okay, so I need to get the user what they're looking for. They want the date, time, and temperature in New York.  Seems straightforward. I can leverage my tools: `get_current_datetime` for the date and time, and `get_temperature` to fetch the temperature. \n",
              "\n",
              "For `get_current_datetime`, I'll need to specify the timezone, and \"America/New_York\" is the clear choice for New York.  No surprises there. And for `get_temperature`, I just need the city, which is \"New York\" – easy peasy.\n",
              "\n",
              "I'll call `get_current_datetime` first, followed by `get_temperature`, and then I'll put the results together in a concise format to give the user exactly what they requested.  Should be a quick turnaround.\n",
              "\"\"\",\n",
              "          thought=True\n",
              "        ),\n",
              "        Part(\n",
              "          function_call=FunctionCall(\n",
              "            args={<... 1 item at Max depth ...>},\n",
              "            name='get_current_datetime'\n",
              "          ),\n",
              "          thought_signature=b'\\n\\x89\\x04\\x01\\xd1\\xed\\x8aoA7\\xa7\\x89\\xf1\\x04M\\xf8>3\\xa6XI\\xa6o\\xb8)\\xd65\\xf9\\x1e\\xe5\\x90\\x89*\\x9b\\xf1c\\xdc\\xd0A\\xd0\\x05\\x98\\xe9F\\xfd_\\x0bZ\\x90`\\xb3i*\\'\"W\\xb3G\\x9e\\xad\\xb0\\x7f\\xf3\\x05G\\xb7nz\\x8c\\xbd}\\x9f\\xca\\x87\\'s\\xc9\\xa6\\x11)\\n\\xf4Y\\xa8\\xc4\\xb9\\xe7\\xef\\x14)\\x08\\x93\\x96\\xe5L^\\xd7...'\n",
              "        ),\n",
              "        Part(\n",
              "          function_call=FunctionCall(\n",
              "            args={<... 1 item at Max depth ...>},\n",
              "            name='get_temperature'\n",
              "          )\n",
              "        ),\n",
              "      ],\n",
              "      role='model'\n",
              "    ),\n",
              "    Content(\n",
              "      parts=[\n",
              "        Part(\n",
              "          function_response=FunctionResponse(\n",
              "            name='get_current_datetime',\n",
              "            response={<... 1 item at Max depth ...>}\n",
              "          )\n",
              "        ),\n",
              "        Part(\n",
              "          function_response=FunctionResponse(\n",
              "            name='get_temperature',\n",
              "            response={<... 1 item at Max depth ...>}\n",
              "          )\n",
              "        ),\n",
              "      ],\n",
              "      role='user'\n",
              "    ),\n",
              "  ],\n",
              "  candidates=[\n",
              "    Candidate(\n",
              "      content=Content(\n",
              "        parts=[\n",
              "          Part(\n",
              "            text=\"\"\"**Putting the Pieces Together: Date, Time, and Weather**\n",
              "\n",
              "Okay, I've got all the data I need. The date in New York is the 2025-10-21, and the time is 12:26:42 AM. And, just as I expected, the temperature is a warm 30°C, and the conditions are perfect – Sunny. Now, the challenge is crafting the response. I have all the components, now I need to present them in a logical and coherent way. I'm eager to get this information out there.\n",
              "\"\"\",\n",
              "            thought=True\n",
              "          ),\n",
              "          Part(\n",
              "            text='The current date and time for New York is 2025-10-21 12:26:42 AM and the temperature is 30°C and it is Sunny.',\n",
              "            thought_signature=b'\\n\\xc1\\x02\\x01\\xd1\\xed\\x8aoC\\xdb\\x99|\\x91\\xfb\\xdf?\\x87\\xfa\\x13+!\\xcd\\xcc%\\x04\\xb5\\xa0\\xd9\\xb1{\\xb2I\\xd3\\x9f\\xe1\\x88~\\x1a\\xc0SI\\xb2\\xf8@\\xd0i-\\x91\\xbb{Ln\\xad\\x8ag\\xfa\\x91$\\x13\\xe5=\\x01\\x987\\x8cU\\xca\\xb9\\xf0\\x8c\\xfd\\xc7\\x91c\\xa6\\xac:\\x02\\xe8\\xe03\\x17(\\x82\\xc2\\x94\\x06\\t\\xb7?(\\xfb\\xcf\\x1dj\\x99\\x08...'\n",
              "          ),\n",
              "        ],\n",
              "        role='model'\n",
              "      ),\n",
              "      finish_reason=<FinishReason.STOP: 'STOP'>,\n",
              "      index=0\n",
              "    ),\n",
              "  ],\n",
              "  model_version='gemini-2.5-flash',\n",
              "  response_id='hAv3aNCpCv3m_uMPjfrMmAs',\n",
              "  sdk_http_response=HttpResponse(\n",
              "    headers=<dict len=10>\n",
              "  ),\n",
              "  usage_metadata=GenerateContentResponseUsageMetadata(\n",
              "    candidates_token_count=44,\n",
              "    prompt_token_count=495,\n",
              "    prompt_tokens_details=[\n",
              "      ModalityTokenCount(\n",
              "        modality=<MediaModality.TEXT: 'TEXT'>,\n",
              "        token_count=495\n",
              "      ),\n",
              "    ],\n",
              "    thoughts_token_count=83,\n",
              "    total_token_count=622\n",
              "  )\n",
              ")"
            ]
          },
          "metadata": {},
          "execution_count": 34
        }
      ]
    },
    {
      "cell_type": "code",
      "source": [],
      "metadata": {
        "id": "d8T_QqClBYds"
      },
      "execution_count": null,
      "outputs": []
    }
  ]
}